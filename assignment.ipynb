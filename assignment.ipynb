{
 "cells": [
  {
   "cell_type": "code",
   "execution_count": 3,
   "id": "7a2827c6",
   "metadata": {},
   "outputs": [
    {
     "name": "stdout",
     "output_type": "stream",
     "text": [
      "[[2 0 4 6 1]\n",
      " [1 2 2 4 0]\n",
      " [1 1 1 2 3]\n",
      " [1 0 1 3 4]\n",
      " [0 2 4 1 3]]\n"
     ]
    },
    {
     "data": {
      "text/plain": [
       "2"
      ]
     },
     "execution_count": 3,
     "metadata": {},
     "output_type": "execute_result"
    }
   ],
   "source": [
    "# matrix for ingredient\n",
    "import numpy as np\n",
    "A=np.array([2,0,4,6,1,1,2,2,4,0,1,1,1,2,3,1,0,1,3,4,0,2,4,1,3])\n",
    "ingredients=A.reshape(5,5)\n",
    "print(ingredients)\n",
    "np.ndim(ingredients)"
   ]
  },
  {
   "cell_type": "code",
   "execution_count": 4,
   "id": "e283085d",
   "metadata": {},
   "outputs": [
    {
     "name": "stdout",
     "output_type": "stream",
     "text": [
      "[[200]\n",
      " [100]\n",
      " [200]\n",
      " [300]\n",
      " [100]]\n"
     ]
    },
    {
     "data": {
      "text/plain": [
       "2"
      ]
     },
     "execution_count": 4,
     "metadata": {},
     "output_type": "execute_result"
    }
   ],
   "source": [
    "#matrix of prices\n",
    "B=np.array([200,100,200,300,100])\n",
    "prices=B.reshape(5,1)\n",
    "print(prices)\n",
    "np.ndim(prices)"
   ]
  },
  {
   "cell_type": "code",
   "execution_count": 10,
   "id": "55bddd30",
   "metadata": {},
   "outputs": [
    {
     "data": {
      "text/plain": [
       "array([[3100],\n",
       "       [2000],\n",
       "       [1400],\n",
       "       [1700],\n",
       "       [1600]])"
      ]
     },
     "execution_count": 10,
     "metadata": {},
     "output_type": "execute_result"
    }
   ],
   "source": [
    "#multiply matrices\n",
    "np.matmul(ingredients,prices)\n"
   ]
  },
  {
   "cell_type": "code",
   "execution_count": 11,
   "id": "9f1a0219",
   "metadata": {},
   "outputs": [
    {
     "name": "stdout",
     "output_type": "stream",
     "text": [
      "[[2 1 1 1 0]\n",
      " [0 2 1 0 2]\n",
      " [4 2 1 1 4]\n",
      " [6 4 2 3 1]\n",
      " [1 0 3 4 3]]\n"
     ]
    }
   ],
   "source": [
    "#transpose of ingredients\n",
    "matrix_T=(np.transpose(ingredients))\n",
    "print(matrix_T)"
   ]
  },
  {
   "cell_type": "code",
   "execution_count": 12,
   "id": "024be3ad",
   "metadata": {},
   "outputs": [
    {
     "name": "stdout",
     "output_type": "stream",
     "text": [
      "[[200 100 200 300 100]]\n"
     ]
    }
   ],
   "source": [
    "#transpose of prices\n",
    "matrix_TT=(np.transpose(prices))\n",
    "print(matrix_TT)"
   ]
  },
  {
   "cell_type": "code",
   "execution_count": 13,
   "id": "64f11eea",
   "metadata": {},
   "outputs": [
    {
     "data": {
      "text/plain": [
       "array([[57, 34, 21, 28, 25],\n",
       "       [34, 25, 13, 15, 16],\n",
       "       [21, 13, 16, 20, 17],\n",
       "       [28, 15, 20, 27, 19],\n",
       "       [25, 16, 17, 19, 30]])"
      ]
     },
     "execution_count": 13,
     "metadata": {},
     "output_type": "execute_result"
    }
   ],
   "source": [
    "#multiplying with a transposed matrix of ingredients\n",
    "ingredients.dot(matrix_T)"
   ]
  },
  {
   "cell_type": "code",
   "execution_count": 14,
   "id": "b7e32a52",
   "metadata": {},
   "outputs": [
    {
     "data": {
      "text/plain": [
       "array([[40000, 20000, 40000, 60000, 20000],\n",
       "       [20000, 10000, 20000, 30000, 10000],\n",
       "       [40000, 20000, 40000, 60000, 20000],\n",
       "       [60000, 30000, 60000, 90000, 30000],\n",
       "       [20000, 10000, 20000, 30000, 10000]])"
      ]
     },
     "execution_count": 14,
     "metadata": {},
     "output_type": "execute_result"
    }
   ],
   "source": [
    "#multiplying with a transposed matrix of prices\n",
    "prices.dot(matrix_TT)"
   ]
  },
  {
   "cell_type": "code",
   "execution_count": 16,
   "id": "8c5a4e50",
   "metadata": {},
   "outputs": [
    {
     "name": "stdout",
     "output_type": "stream",
     "text": [
      "[[1. 0. 0. 0. 0.]\n",
      " [0. 1. 0. 0. 0.]\n",
      " [0. 0. 1. 0. 0.]\n",
      " [0. 0. 0. 1. 0.]\n",
      " [0. 0. 0. 0. 1.]]\n"
     ]
    }
   ],
   "source": [
    "#identity matrix\n",
    "identity_m=np.eye(5,5)\n",
    "print(identity_m)"
   ]
  },
  {
   "cell_type": "code",
   "execution_count": 17,
   "id": "eb6fa63e",
   "metadata": {},
   "outputs": [
    {
     "data": {
      "text/plain": [
       "array([[2., 0., 4., 6., 1.],\n",
       "       [1., 2., 2., 4., 0.],\n",
       "       [1., 1., 1., 2., 3.],\n",
       "       [1., 0., 1., 3., 4.],\n",
       "       [0., 2., 4., 1., 3.]])"
      ]
     },
     "execution_count": 17,
     "metadata": {},
     "output_type": "execute_result"
    }
   ],
   "source": [
    "#multiplying the identity matrix with the ingredients\n",
    "ingredients.dot(identity_m)"
   ]
  },
  {
   "cell_type": "code",
   "execution_count": 19,
   "id": "e88623a9",
   "metadata": {},
   "outputs": [
    {
     "data": {
      "text/plain": [
       "array([[2., 1., 1., 1., 0.],\n",
       "       [0., 2., 1., 0., 2.],\n",
       "       [4., 2., 1., 1., 4.],\n",
       "       [6., 4., 2., 3., 1.],\n",
       "       [1., 0., 3., 4., 3.]])"
      ]
     },
     "execution_count": 19,
     "metadata": {},
     "output_type": "execute_result"
    }
   ],
   "source": [
    "#multiplying the identity and transposed matrix\n",
    "identity_m.dot(matrix_T)"
   ]
  },
  {
   "cell_type": "code",
   "execution_count": 21,
   "id": "c948780a",
   "metadata": {},
   "outputs": [
    {
     "data": {
      "text/plain": [
       "-104.99999999999997"
      ]
     },
     "execution_count": 21,
     "metadata": {},
     "output_type": "execute_result"
    }
   ],
   "source": [
    "#determinant of a matrix of ingredients\n",
    "np.linalg.det(ingredients)"
   ]
  },
  {
   "cell_type": "code",
   "execution_count": 22,
   "id": "08150f4d",
   "metadata": {},
   "outputs": [
    {
     "data": {
      "text/plain": [
       "-104.99999999999997"
      ]
     },
     "execution_count": 22,
     "metadata": {},
     "output_type": "execute_result"
    }
   ],
   "source": [
    "#determinant of a atransposed matrix\n",
    "np.linalg.det(matrix_T)"
   ]
  },
  {
   "cell_type": "code",
   "execution_count": null,
   "id": "ca6fc055",
   "metadata": {},
   "outputs": [],
   "source": [
    "#matrix of ingredients is linearly dependant to the transpose of the matrix"
   ]
  }
 ],
 "metadata": {
  "kernelspec": {
   "display_name": "Python 3",
   "language": "python",
   "name": "python3"
  },
  "language_info": {
   "codemirror_mode": {
    "name": "ipython",
    "version": 3
   },
   "file_extension": ".py",
   "mimetype": "text/x-python",
   "name": "python",
   "nbconvert_exporter": "python",
   "pygments_lexer": "ipython3",
   "version": "3.8.8"
  }
 },
 "nbformat": 4,
 "nbformat_minor": 5
}
